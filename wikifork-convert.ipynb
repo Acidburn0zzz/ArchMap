{
 "metadata": {
  "name": ""
 },
 "nbformat": 3,
 "nbformat_minor": 0,
 "worksheets": [
  {
   "cells": [
    {
     "cell_type": "code",
     "collapsed": false,
     "input": [
      "from geojson import Feature, Point\n",
      "\n",
      "wikitext = open('wiki-fork', 'r')\n",
      "output = open('output.geojson', 'w')\n",
      "\n",
      "geo_output = ('')\n",
      "\n",
      "for line in wikitext:\n",
      "    split = line.split('\"')\n",
      "    \n",
      "    coord = split[0].strip(' ')\n",
      "    coord = coord.split(',')\n",
      "    name = split[1].strip()\n",
      "    \n",
      "    point = Point(coords)\n",
      "    feature = Feature(geometry=point, properties={\"Name\": name})\n",
      "    \n",
      "    geo_output += str(feature)\n",
      "    \n",
      "output.write(geo_output)\n",
      " \n",
      "wikitext.close()\n",
      "output.close()"
     ],
     "language": "python",
     "metadata": {},
     "outputs": [],
     "prompt_number": 115
    }
   ],
   "metadata": {}
  }
 ]
}